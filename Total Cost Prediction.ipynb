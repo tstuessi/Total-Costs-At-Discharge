{
 "cells": [
  {
   "cell_type": "markdown",
   "id": "alleged-invention",
   "metadata": {},
   "source": [
    "# Total Cost Prediction\n",
    "This notebook explores the [Hospital Inpatient Discharges](https://health.data.ny.gov/Health/Hospital-Inpatient-Discharges-SPARCS-De-Identified/82xm-y6g8) dataset, attempting to predict the total estimated cost of care. This dataset is de-identified, meaning no identifiable information is included and it can be used for public projects. These observations were taken from the discharge year 2015 in the state of New York and were released by the New York State Department of Health. \n",
    "\n",
    "This data was downloaded on February 13th, 2020 and totaled around 900Mb on disk."
   ]
  },
  {
   "cell_type": "code",
   "execution_count": 1,
   "id": "activated-verification",
   "metadata": {},
   "outputs": [],
   "source": [
    "# imports\n",
    "import numpy as np\n",
    "import pandas as pd\n",
    "\n",
    "from scipy.stats import f_oneway, chi2_contingency\n",
    "\n",
    "import matplotlib.pyplot as plt\n",
    "\n",
    "# show all jupyter notebook output\n",
    "from IPython.core.interactiveshell import InteractiveShell\n",
    "InteractiveShell.ast_node_interactivity = \"all\"\n",
    "\n",
    "# sklearn imports\n",
    "from sklearn.model_selection import train_test_split\n",
    "from sklearn.compose import ColumnTransformer\n",
    "from sklearn.preprocessing import OneHotEncoder\n",
    "from sklearn.pipeline import Pipeline"
   ]
  },
  {
   "cell_type": "code",
   "execution_count": 2,
   "id": "moved-belize",
   "metadata": {},
   "outputs": [],
   "source": [
    "# h2o imports\n",
    "import h2o\n",
    "from h2o.sklearn import H2OAutoMLRegressor"
   ]
  },
  {
   "cell_type": "markdown",
   "id": "recreational-tooth",
   "metadata": {},
   "source": [
    "## Cleaning\n",
    "Before we dive into modeling, let's take some time to clean up the data set. First, we will load up the dataset into a pandas dataframe and run some basic summary statistics."
   ]
  },
  {
   "cell_type": "code",
   "execution_count": 3,
   "id": "broke-knight",
   "metadata": {},
   "outputs": [
    {
     "name": "stderr",
     "output_type": "stream",
     "text": [
      "C:\\Users\\compu\\anaconda3\\envs\\empiric\\lib\\site-packages\\IPython\\core\\interactiveshell.py:3155: DtypeWarning: Columns (10) have mixed types.Specify dtype option on import or set low_memory=False.\n",
      "  has_raised = await self.run_ast_nodes(code_ast.body, cell_name,\n"
     ]
    },
    {
     "data": {
      "text/plain": [
       "(2346931, 34)"
      ]
     },
     "execution_count": 3,
     "metadata": {},
     "output_type": "execute_result"
    },
    {
     "data": {
      "text/plain": [
       "Index(['Health Service Area', 'Hospital County',\n",
       "       'Operating Certificate Number', 'Facility Id', 'Facility Name',\n",
       "       'Age Group', 'Zip Code - 3 digits', 'Gender', 'Race', 'Ethnicity',\n",
       "       'Length of Stay', 'Type of Admission', 'Patient Disposition',\n",
       "       'Discharge Year', 'CCS Diagnosis Code', 'CCS Diagnosis Description',\n",
       "       'CCS Procedure Code', 'CCS Procedure Description', 'APR DRG Code',\n",
       "       'APR DRG Description', 'APR MDC Code', 'APR MDC Description',\n",
       "       'APR Severity of Illness Code', 'APR Severity of Illness Description',\n",
       "       'APR Risk of Mortality', 'APR Medical Surgical Description',\n",
       "       'Payment Typology 1', 'Payment Typology 2', 'Payment Typology 3',\n",
       "       'Birth Weight', 'Abortion Edit Indicator',\n",
       "       'Emergency Department Indicator', 'Total Charges', 'Total Costs'],\n",
       "      dtype='object')"
      ]
     },
     "execution_count": 3,
     "metadata": {},
     "output_type": "execute_result"
    },
    {
     "data": {
      "text/html": [
       "<div>\n",
       "<style scoped>\n",
       "    .dataframe tbody tr th:only-of-type {\n",
       "        vertical-align: middle;\n",
       "    }\n",
       "\n",
       "    .dataframe tbody tr th {\n",
       "        vertical-align: top;\n",
       "    }\n",
       "\n",
       "    .dataframe thead th {\n",
       "        text-align: right;\n",
       "    }\n",
       "</style>\n",
       "<table border=\"1\" class=\"dataframe\">\n",
       "  <thead>\n",
       "    <tr style=\"text-align: right;\">\n",
       "      <th></th>\n",
       "      <th>Health Service Area</th>\n",
       "      <th>Hospital County</th>\n",
       "      <th>Operating Certificate Number</th>\n",
       "      <th>Facility Id</th>\n",
       "      <th>Facility Name</th>\n",
       "      <th>Age Group</th>\n",
       "      <th>Zip Code - 3 digits</th>\n",
       "      <th>Gender</th>\n",
       "      <th>Race</th>\n",
       "      <th>Ethnicity</th>\n",
       "      <th>...</th>\n",
       "      <th>APR Risk of Mortality</th>\n",
       "      <th>APR Medical Surgical Description</th>\n",
       "      <th>Payment Typology 1</th>\n",
       "      <th>Payment Typology 2</th>\n",
       "      <th>Payment Typology 3</th>\n",
       "      <th>Birth Weight</th>\n",
       "      <th>Abortion Edit Indicator</th>\n",
       "      <th>Emergency Department Indicator</th>\n",
       "      <th>Total Charges</th>\n",
       "      <th>Total Costs</th>\n",
       "    </tr>\n",
       "  </thead>\n",
       "  <tbody>\n",
       "    <tr>\n",
       "      <th>0</th>\n",
       "      <td>Western NY</td>\n",
       "      <td>Allegany</td>\n",
       "      <td>226700.0</td>\n",
       "      <td>37.0</td>\n",
       "      <td>Cuba Memorial Hospital Inc</td>\n",
       "      <td>70 or Older</td>\n",
       "      <td>147</td>\n",
       "      <td>F</td>\n",
       "      <td>White</td>\n",
       "      <td>Not Span/Hispanic</td>\n",
       "      <td>...</td>\n",
       "      <td>Minor</td>\n",
       "      <td>Medical</td>\n",
       "      <td>Medicare</td>\n",
       "      <td>Private Health Insurance</td>\n",
       "      <td>NaN</td>\n",
       "      <td>0</td>\n",
       "      <td>N</td>\n",
       "      <td>Y</td>\n",
       "      <td>5333.90</td>\n",
       "      <td>4818.42</td>\n",
       "    </tr>\n",
       "    <tr>\n",
       "      <th>1</th>\n",
       "      <td>Western NY</td>\n",
       "      <td>Allegany</td>\n",
       "      <td>226700.0</td>\n",
       "      <td>37.0</td>\n",
       "      <td>Cuba Memorial Hospital Inc</td>\n",
       "      <td>70 or Older</td>\n",
       "      <td>147</td>\n",
       "      <td>F</td>\n",
       "      <td>White</td>\n",
       "      <td>Not Span/Hispanic</td>\n",
       "      <td>...</td>\n",
       "      <td>Moderate</td>\n",
       "      <td>Medical</td>\n",
       "      <td>Medicare</td>\n",
       "      <td>NaN</td>\n",
       "      <td>NaN</td>\n",
       "      <td>0</td>\n",
       "      <td>N</td>\n",
       "      <td>Y</td>\n",
       "      <td>4865.99</td>\n",
       "      <td>4588.78</td>\n",
       "    </tr>\n",
       "    <tr>\n",
       "      <th>2</th>\n",
       "      <td>Western NY</td>\n",
       "      <td>Allegany</td>\n",
       "      <td>226700.0</td>\n",
       "      <td>37.0</td>\n",
       "      <td>Cuba Memorial Hospital Inc</td>\n",
       "      <td>70 or Older</td>\n",
       "      <td>147</td>\n",
       "      <td>F</td>\n",
       "      <td>White</td>\n",
       "      <td>Not Span/Hispanic</td>\n",
       "      <td>...</td>\n",
       "      <td>Minor</td>\n",
       "      <td>Medical</td>\n",
       "      <td>Medicare</td>\n",
       "      <td>Private Health Insurance</td>\n",
       "      <td>NaN</td>\n",
       "      <td>0</td>\n",
       "      <td>N</td>\n",
       "      <td>Y</td>\n",
       "      <td>5901.54</td>\n",
       "      <td>5559.56</td>\n",
       "    </tr>\n",
       "    <tr>\n",
       "      <th>3</th>\n",
       "      <td>Western NY</td>\n",
       "      <td>Allegany</td>\n",
       "      <td>226700.0</td>\n",
       "      <td>37.0</td>\n",
       "      <td>Cuba Memorial Hospital Inc</td>\n",
       "      <td>50 to 69</td>\n",
       "      <td>147</td>\n",
       "      <td>F</td>\n",
       "      <td>White</td>\n",
       "      <td>Not Span/Hispanic</td>\n",
       "      <td>...</td>\n",
       "      <td>Minor</td>\n",
       "      <td>Medical</td>\n",
       "      <td>Medicare</td>\n",
       "      <td>NaN</td>\n",
       "      <td>NaN</td>\n",
       "      <td>0</td>\n",
       "      <td>N</td>\n",
       "      <td>Y</td>\n",
       "      <td>3619.08</td>\n",
       "      <td>3567.25</td>\n",
       "    </tr>\n",
       "    <tr>\n",
       "      <th>4</th>\n",
       "      <td>Western NY</td>\n",
       "      <td>Allegany</td>\n",
       "      <td>226700.0</td>\n",
       "      <td>37.0</td>\n",
       "      <td>Cuba Memorial Hospital Inc</td>\n",
       "      <td>70 or Older</td>\n",
       "      <td>147</td>\n",
       "      <td>M</td>\n",
       "      <td>White</td>\n",
       "      <td>Not Span/Hispanic</td>\n",
       "      <td>...</td>\n",
       "      <td>Moderate</td>\n",
       "      <td>Medical</td>\n",
       "      <td>Medicare</td>\n",
       "      <td>Blue Cross/Blue Shield</td>\n",
       "      <td>Private Health Insurance</td>\n",
       "      <td>0</td>\n",
       "      <td>N</td>\n",
       "      <td>Y</td>\n",
       "      <td>3185.87</td>\n",
       "      <td>3167.89</td>\n",
       "    </tr>\n",
       "  </tbody>\n",
       "</table>\n",
       "<p>5 rows × 34 columns</p>\n",
       "</div>"
      ],
      "text/plain": [
       "  Health Service Area Hospital County  Operating Certificate Number  \\\n",
       "0          Western NY        Allegany                      226700.0   \n",
       "1          Western NY        Allegany                      226700.0   \n",
       "2          Western NY        Allegany                      226700.0   \n",
       "3          Western NY        Allegany                      226700.0   \n",
       "4          Western NY        Allegany                      226700.0   \n",
       "\n",
       "   Facility Id               Facility Name    Age Group Zip Code - 3 digits  \\\n",
       "0         37.0  Cuba Memorial Hospital Inc  70 or Older                 147   \n",
       "1         37.0  Cuba Memorial Hospital Inc  70 or Older                 147   \n",
       "2         37.0  Cuba Memorial Hospital Inc  70 or Older                 147   \n",
       "3         37.0  Cuba Memorial Hospital Inc     50 to 69                 147   \n",
       "4         37.0  Cuba Memorial Hospital Inc  70 or Older                 147   \n",
       "\n",
       "  Gender   Race          Ethnicity  ... APR Risk of Mortality  \\\n",
       "0      F  White  Not Span/Hispanic  ...                 Minor   \n",
       "1      F  White  Not Span/Hispanic  ...              Moderate   \n",
       "2      F  White  Not Span/Hispanic  ...                 Minor   \n",
       "3      F  White  Not Span/Hispanic  ...                 Minor   \n",
       "4      M  White  Not Span/Hispanic  ...              Moderate   \n",
       "\n",
       "  APR Medical Surgical Description Payment Typology 1  \\\n",
       "0                          Medical           Medicare   \n",
       "1                          Medical           Medicare   \n",
       "2                          Medical           Medicare   \n",
       "3                          Medical           Medicare   \n",
       "4                          Medical           Medicare   \n",
       "\n",
       "         Payment Typology 2        Payment Typology 3 Birth Weight  \\\n",
       "0  Private Health Insurance                       NaN            0   \n",
       "1                       NaN                       NaN            0   \n",
       "2  Private Health Insurance                       NaN            0   \n",
       "3                       NaN                       NaN            0   \n",
       "4    Blue Cross/Blue Shield  Private Health Insurance            0   \n",
       "\n",
       "   Abortion Edit Indicator Emergency Department Indicator  Total Charges  \\\n",
       "0                        N                              Y        5333.90   \n",
       "1                        N                              Y        4865.99   \n",
       "2                        N                              Y        5901.54   \n",
       "3                        N                              Y        3619.08   \n",
       "4                        N                              Y        3185.87   \n",
       "\n",
       "  Total Costs  \n",
       "0     4818.42  \n",
       "1     4588.78  \n",
       "2     5559.56  \n",
       "3     3567.25  \n",
       "4     3167.89  \n",
       "\n",
       "[5 rows x 34 columns]"
      ]
     },
     "execution_count": 3,
     "metadata": {},
     "output_type": "execute_result"
    }
   ],
   "source": [
    "datapath = \"data/Hospital_Inpatient_Discharges__SPARCS_De-Identified___2015.csv\"\n",
    "full_dataset = pd.read_csv(datapath)\n",
    "full_dataset.shape\n",
    "full_dataset.columns\n",
    "full_dataset.head()"
   ]
  },
  {
   "cell_type": "markdown",
   "id": "elect-sierra",
   "metadata": {},
   "source": [
    "2.3 million rows is quite a lot - that might cause some performance issues down the road. However, this tidbit gives us quite a bit of information up front, including the column names. The \"Total Costs\" column is the one we are predicting, with most of the rest being our feature columns. We can throw out a few columns immediately:\n",
    " * Description columns - we will print the shorter ones for reference, but these won't add any value:\n",
    "  * Facility ID (we will use name for interpretability later on)\n",
    "  * Operating Certificate Number (proxy for facility ID according to the data description)\n",
    "  * CCS Diagnosis Description\n",
    "  * CCS Procedure Description\n",
    "  * APR DRG Description\n",
    "  * APR MDC Description\n",
    "  * APR Severity of Illness Description\n",
    " * Abortion edit indicator - we will use this column for another purpose later on, so I won't be dropping it just yet but will later on.\n",
    " * Discharge Year - all 2015\n",
    " * Total Charges - it was unclear in the documentation how this relates to Total Costs, so I'm assuming it's a proxy and throwing it out\n",
    "\n",
    "\n",
    "First, let's validate that last assumption:"
   ]
  },
  {
   "cell_type": "code",
   "execution_count": 4,
   "id": "played-intensity",
   "metadata": {},
   "outputs": [
    {
     "name": "stdout",
     "output_type": "stream",
     "text": [
      "Pearson Correlation\n"
     ]
    },
    {
     "data": {
      "text/html": [
       "<div>\n",
       "<style scoped>\n",
       "    .dataframe tbody tr th:only-of-type {\n",
       "        vertical-align: middle;\n",
       "    }\n",
       "\n",
       "    .dataframe tbody tr th {\n",
       "        vertical-align: top;\n",
       "    }\n",
       "\n",
       "    .dataframe thead th {\n",
       "        text-align: right;\n",
       "    }\n",
       "</style>\n",
       "<table border=\"1\" class=\"dataframe\">\n",
       "  <thead>\n",
       "    <tr style=\"text-align: right;\">\n",
       "      <th></th>\n",
       "      <th>Total Charges</th>\n",
       "      <th>Total Costs</th>\n",
       "    </tr>\n",
       "  </thead>\n",
       "  <tbody>\n",
       "    <tr>\n",
       "      <th>Total Charges</th>\n",
       "      <td>1.00000</td>\n",
       "      <td>0.90176</td>\n",
       "    </tr>\n",
       "    <tr>\n",
       "      <th>Total Costs</th>\n",
       "      <td>0.90176</td>\n",
       "      <td>1.00000</td>\n",
       "    </tr>\n",
       "  </tbody>\n",
       "</table>\n",
       "</div>"
      ],
      "text/plain": [
       "               Total Charges  Total Costs\n",
       "Total Charges        1.00000      0.90176\n",
       "Total Costs          0.90176      1.00000"
      ]
     },
     "execution_count": 4,
     "metadata": {},
     "output_type": "execute_result"
    },
    {
     "data": {
      "text/plain": [
       "<AxesSubplot:xlabel='Total Costs', ylabel='Total Charges'>"
      ]
     },
     "execution_count": 4,
     "metadata": {},
     "output_type": "execute_result"
    },
    {
     "data": {
      "image/png": "[encoded data removed]",
      "text/plain": [
       "<Figure size 432x288 with 1 Axes>"
      ]
     },
     "metadata": {
      "needs_background": "light"
     },
     "output_type": "display_data"
    }
   ],
   "source": [
    "print(\"Pearson Correlation\")\n",
    "full_dataset[[\"Total Charges\", \"Total Costs\"]].corr()\n",
    "full_dataset.plot(kind=\"scatter\", x=\"Total Costs\", y=\"Total Charges\")"
   ]
  },
  {
   "cell_type": "code",
   "execution_count": 5,
   "id": "oriental-jumping",
   "metadata": {},
   "outputs": [
    {
     "data": {
      "text/plain": [
       "2015    2346931\n",
       "Name: Discharge Year, dtype: int64"
      ]
     },
     "execution_count": 5,
     "metadata": {},
     "output_type": "execute_result"
    }
   ],
   "source": [
    "full_dataset[\"Discharge Year\"].value_counts()"
   ]
  },
  {
   "cell_type": "markdown",
   "id": "final-holocaust",
   "metadata": {},
   "source": [
    "Like I said, they seemed to be proxies of each other. I feel that we can safely throw out this variable. The other descriptor variables are listed in the \"Codes Reference\" notebook."
   ]
  },
  {
   "cell_type": "code",
   "execution_count": 6,
   "id": "loose-driving",
   "metadata": {},
   "outputs": [],
   "source": [
    "# drop the variables\n",
    "dropped_cols = [\"Facility Id\", \"Operating Certificate Number\", \"CCS Diagnosis Description\", \"CCS Procedure Description\",\n",
    "                \"APR DRG Description\", \"APR MDC Description\", \"APR Severity of Illness Description\", \"Discharge Year\",\n",
    "                \"Total Charges\"]\n",
    "trimmed_dataset = full_dataset.drop(dropped_cols, axis=1)"
   ]
  },
  {
   "cell_type": "markdown",
   "id": "failing-calculator",
   "metadata": {},
   "source": [
    "Next, we need to define the data types of our predictor variables - mainly expressly turning categorical variables into categories. This will help in performance later on. We will start with the obvious ones:"
   ]
  },
  {
   "cell_type": "code",
   "execution_count": 7,
   "id": "delayed-absence",
   "metadata": {},
   "outputs": [],
   "source": [
    "category_list = [\n",
    "    \"Health Service Area\",\n",
    "    \"Hospital County\",\n",
    "    \"Facility Name\",\n",
    "    \"Age Group\",\n",
    "    \"Zip Code - 3 digits\",\n",
    "    \"Gender\",\n",
    "    \"Race\", \n",
    "    \"Ethnicity\",\n",
    "    \"Type of Admission\",\n",
    "    \"Patient Disposition\",\n",
    "    \"CCS Diagnosis Code\",\n",
    "    \"CCS Procedure Code\",\n",
    "    \"APR DRG Code\",\n",
    "    \"APR MDC Code\",\n",
    "    \"APR Severity of Illness Code\",\n",
    "    \"APR Risk of Mortality\",\n",
    "    \"APR Medical Surgical Description\",\n",
    "    \"Payment Typology 1\",\n",
    "    \"Payment Typology 2\",\n",
    "    \"Payment Typology 3\",\n",
    "    \"Emergency Department Indicator\"\n",
    "]\n",
    "\n",
    "category_map = {cat: \"category\" for cat in category_list}\n",
    "trimmed_dataset = trimmed_dataset.astype(category_map)"
   ]
  },
  {
   "cell_type": "markdown",
   "id": "scenic-corruption",
   "metadata": {},
   "source": [
    "Length of stay should be numerical, but if a stay is greater than 120 days then it is truncated to 120 +. Given the unlikely nature of that, it's fine to just force that to be 120."
   ]
  },
  {
   "cell_type": "code",
   "execution_count": 8,
   "id": "agricultural-insurance",
   "metadata": {},
   "outputs": [],
   "source": [
    "trimmed_dataset[\"Length of Stay\"] = trimmed_dataset[\"Length of Stay\"].apply(lambda x: 120 if x == \"120 +\" else int(x)).astype(\"int32\")"
   ]
  },
  {
   "cell_type": "code",
   "execution_count": 9,
   "id": "italic-adolescent",
   "metadata": {},
   "outputs": [
    {
     "data": {
      "text/plain": [
       "Health Service Area                    5464\n",
       "Hospital County                        5464\n",
       "Facility Name                             0\n",
       "Age Group                                 0\n",
       "Zip Code - 3 digits                   35816\n",
       "Gender                                    0\n",
       "Race                                      0\n",
       "Ethnicity                                 0\n",
       "Length of Stay                            0\n",
       "Type of Admission                         0\n",
       "Patient Disposition                       0\n",
       "CCS Diagnosis Code                        0\n",
       "CCS Procedure Code                        0\n",
       "APR DRG Code                              0\n",
       "APR MDC Code                              0\n",
       "APR Severity of Illness Code              0\n",
       "APR Risk of Mortality                   111\n",
       "APR Medical Surgical Description          0\n",
       "Payment Typology 1                        0\n",
       "Payment Typology 2                   762285\n",
       "Payment Typology 3                  1645513\n",
       "Birth Weight                              0\n",
       "Abortion Edit Indicator                   0\n",
       "Emergency Department Indicator            0\n",
       "Total Costs                               0\n",
       "dtype: int64"
      ]
     },
     "execution_count": 9,
     "metadata": {},
     "output_type": "execute_result"
    }
   ],
   "source": [
    "# fill some NAs\n",
    "trimmed_dataset.isna().sum(axis=0)"
   ]
  },
  {
   "cell_type": "code",
   "execution_count": 10,
   "id": "educational-ensemble",
   "metadata": {},
   "outputs": [],
   "source": [
    "# only filling a few of these - you will see why later\n",
    "trimmed_dataset[\"APR Risk of Mortality\"].cat.add_categories(\"None\", inplace=True)\n",
    "trimmed_dataset[\"APR Risk of Mortality\"] = trimmed_dataset[\"APR Risk of Mortality\"].fillna(\"None\")"
   ]
  },
  {
   "cell_type": "code",
   "execution_count": 11,
   "id": "spatial-federal",
   "metadata": {},
   "outputs": [],
   "source": [
    "trimmed_dataset[\"Payment Typology 2\"].cat.add_categories(\"None\", inplace=True)\n",
    "trimmed_dataset[\"Payment Typology 2\"] = trimmed_dataset[\"Payment Typology 2\"].fillna(\"None\")\n",
    "trimmed_dataset[\"Payment Typology 3\"].cat.add_categories(\"None\", inplace=True)\n",
    "trimmed_dataset[\"Payment Typology 3\"] = trimmed_dataset[\"Payment Typology 3\"].fillna(\"None\")"
   ]
  },
  {
   "cell_type": "code",
   "execution_count": 12,
   "id": "distinguished-white",
   "metadata": {},
   "outputs": [
    {
     "data": {
      "text/plain": [
       "['Health Service Area',\n",
       " 'Hospital County',\n",
       " 'Facility Name',\n",
       " 'Age Group',\n",
       " 'Zip Code - 3 digits',\n",
       " 'Gender',\n",
       " 'Race',\n",
       " 'Ethnicity',\n",
       " 'Type of Admission',\n",
       " 'Patient Disposition',\n",
       " 'CCS Diagnosis Code',\n",
       " 'CCS Procedure Code',\n",
       " 'APR DRG Code',\n",
       " 'APR MDC Code',\n",
       " 'APR Severity of Illness Code',\n",
       " 'APR Risk of Mortality',\n",
       " 'APR Medical Surgical Description',\n",
       " 'Payment Typology 1',\n",
       " 'Payment Typology 2',\n",
       " 'Payment Typology 3',\n",
       " 'Emergency Department Indicator',\n",
       " 'Length of Stay',\n",
       " 'Birth Weight']"
      ]
     },
     "execution_count": 12,
     "metadata": {},
     "output_type": "execute_result"
    }
   ],
   "source": [
    "# Birthweight can be left as is, so we end up with the following feature list:\n",
    "feature_list = category_list + [\"Length of Stay\", \"Birth Weight\"]\n",
    "feature_list"
   ]
  },
  {
   "cell_type": "markdown",
   "id": "level-transfer",
   "metadata": {},
   "source": [
    "Note that we still haven't done anything with the Abortion Edit Indicator field. This field marks whether or not information has been redacted because of an abortion, as per state law. Redacted information includes the following:\n",
    " * Health Service Area\n",
    " * Hospital County\n",
    " * Facility Name\n",
    " * Zip Code\n",
    "\n",
    "Normally, I would try and find some way around these blanked records - either by putting abortion patients into a separate cohort and training a different model or removing those patients from the dataset entirely; however, for the sake of time, we will simply remove those columns and move forward. It's a shame, as it would be interesting to examine costs as a factor of geographic location and facility."
   ]
  },
  {
   "cell_type": "code",
   "execution_count": 13,
   "id": "beginning-flush",
   "metadata": {},
   "outputs": [
    {
     "data": {
      "text/plain": [
       "['Age Group',\n",
       " 'Gender',\n",
       " 'Race',\n",
       " 'Ethnicity',\n",
       " 'Type of Admission',\n",
       " 'Patient Disposition',\n",
       " 'CCS Diagnosis Code',\n",
       " 'CCS Procedure Code',\n",
       " 'APR DRG Code',\n",
       " 'APR MDC Code',\n",
       " 'APR Severity of Illness Code',\n",
       " 'APR Risk of Mortality',\n",
       " 'APR Medical Surgical Description',\n",
       " 'Payment Typology 1',\n",
       " 'Payment Typology 2',\n",
       " 'Payment Typology 3',\n",
       " 'Emergency Department Indicator',\n",
       " 'Length of Stay',\n",
       " 'Birth Weight']"
      ]
     },
     "execution_count": 13,
     "metadata": {},
     "output_type": "execute_result"
    },
    {
     "data": {
      "text/plain": [
       "19"
      ]
     },
     "execution_count": 13,
     "metadata": {},
     "output_type": "execute_result"
    }
   ],
   "source": [
    "drop_cols = [\"Health Service Area\", \"Hospital County\", \"Facility Name\", \"Zip Code - 3 digits\", \"Abortion Edit Indicator\"]\n",
    "category_list = [col for col in category_list if col not in drop_cols]\n",
    "feature_list = category_list + [\"Length of Stay\", \"Birth Weight\"]\n",
    "feature_list\n",
    "len(feature_list)"
   ]
  },
  {
   "cell_type": "markdown",
   "id": "isolated-arena",
   "metadata": {},
   "source": [
    "This has reduced our potential feature list from 33 features to 19 - that's a reasonable number, especially since most of them are categorical. \n",
    "\n",
    "## Holdout Set Creation\n",
    "Before we get into any feature analysis, let's go ahead and create a holdout set that we can report our results on. By creating this now, we make sure that we aren't biased at all by the holdout set."
   ]
  },
  {
   "cell_type": "code",
   "execution_count": 14,
   "id": "median-mayor",
   "metadata": {},
   "outputs": [
    {
     "data": {
      "text/plain": [
       "(1877544, 19)"
      ]
     },
     "execution_count": 14,
     "metadata": {},
     "output_type": "execute_result"
    },
    {
     "data": {
      "text/html": [
       "<div>\n",
       "<style scoped>\n",
       "    .dataframe tbody tr th:only-of-type {\n",
       "        vertical-align: middle;\n",
       "    }\n",
       "\n",
       "    .dataframe tbody tr th {\n",
       "        vertical-align: top;\n",
       "    }\n",
       "\n",
       "    .dataframe thead th {\n",
       "        text-align: right;\n",
       "    }\n",
       "</style>\n",
       "<table border=\"1\" class=\"dataframe\">\n",
       "  <thead>\n",
       "    <tr style=\"text-align: right;\">\n",
       "      <th></th>\n",
       "      <th>Age Group</th>\n",
       "      <th>Gender</th>\n",
       "      <th>Race</th>\n",
       "      <th>Ethnicity</th>\n",
       "      <th>Type of Admission</th>\n",
       "      <th>Patient Disposition</th>\n",
       "      <th>CCS Diagnosis Code</th>\n",
       "      <th>CCS Procedure Code</th>\n",
       "      <th>APR DRG Code</th>\n",
       "      <th>APR MDC Code</th>\n",
       "      <th>APR Severity of Illness Code</th>\n",
       "      <th>APR Risk of Mortality</th>\n",
       "      <th>APR Medical Surgical Description</th>\n",
       "      <th>Payment Typology 1</th>\n",
       "      <th>Payment Typology 2</th>\n",
       "      <th>Payment Typology 3</th>\n",
       "      <th>Emergency Department Indicator</th>\n",
       "      <th>Length of Stay</th>\n",
       "      <th>Birth Weight</th>\n",
       "    </tr>\n",
       "  </thead>\n",
       "  <tbody>\n",
       "    <tr>\n",
       "      <th>872704</th>\n",
       "      <td>50 to 69</td>\n",
       "      <td>M</td>\n",
       "      <td>White</td>\n",
       "      <td>Not Span/Hispanic</td>\n",
       "      <td>Emergency</td>\n",
       "      <td>Home or Self Care</td>\n",
       "      <td>122</td>\n",
       "      <td>0</td>\n",
       "      <td>139</td>\n",
       "      <td>4</td>\n",
       "      <td>2</td>\n",
       "      <td>Minor</td>\n",
       "      <td>Medical</td>\n",
       "      <td>Medicaid</td>\n",
       "      <td>Self-Pay</td>\n",
       "      <td>Self-Pay</td>\n",
       "      <td>Y</td>\n",
       "      <td>1</td>\n",
       "      <td>0</td>\n",
       "    </tr>\n",
       "    <tr>\n",
       "      <th>1198712</th>\n",
       "      <td>70 or Older</td>\n",
       "      <td>F</td>\n",
       "      <td>White</td>\n",
       "      <td>Not Span/Hispanic</td>\n",
       "      <td>Emergency</td>\n",
       "      <td>Skilled Nursing Home</td>\n",
       "      <td>143</td>\n",
       "      <td>231</td>\n",
       "      <td>227</td>\n",
       "      <td>6</td>\n",
       "      <td>3</td>\n",
       "      <td>Major</td>\n",
       "      <td>Surgical</td>\n",
       "      <td>Medicare</td>\n",
       "      <td>Medicaid</td>\n",
       "      <td>None</td>\n",
       "      <td>Y</td>\n",
       "      <td>7</td>\n",
       "      <td>0</td>\n",
       "    </tr>\n",
       "    <tr>\n",
       "      <th>1725014</th>\n",
       "      <td>0 to 17</td>\n",
       "      <td>F</td>\n",
       "      <td>Other Race</td>\n",
       "      <td>Not Span/Hispanic</td>\n",
       "      <td>Newborn</td>\n",
       "      <td>Home or Self Care</td>\n",
       "      <td>218</td>\n",
       "      <td>228</td>\n",
       "      <td>640</td>\n",
       "      <td>15</td>\n",
       "      <td>1</td>\n",
       "      <td>Minor</td>\n",
       "      <td>Medical</td>\n",
       "      <td>Blue Cross/Blue Shield</td>\n",
       "      <td>Self-Pay</td>\n",
       "      <td>None</td>\n",
       "      <td>N</td>\n",
       "      <td>3</td>\n",
       "      <td>2500</td>\n",
       "    </tr>\n",
       "    <tr>\n",
       "      <th>358856</th>\n",
       "      <td>70 or Older</td>\n",
       "      <td>M</td>\n",
       "      <td>White</td>\n",
       "      <td>Not Span/Hispanic</td>\n",
       "      <td>Emergency</td>\n",
       "      <td>Home or Self Care</td>\n",
       "      <td>129</td>\n",
       "      <td>0</td>\n",
       "      <td>137</td>\n",
       "      <td>4</td>\n",
       "      <td>2</td>\n",
       "      <td>Major</td>\n",
       "      <td>Medical</td>\n",
       "      <td>Medicare</td>\n",
       "      <td>Private Health Insurance</td>\n",
       "      <td>Self-Pay</td>\n",
       "      <td>Y</td>\n",
       "      <td>4</td>\n",
       "      <td>0</td>\n",
       "    </tr>\n",
       "    <tr>\n",
       "      <th>825601</th>\n",
       "      <td>50 to 69</td>\n",
       "      <td>F</td>\n",
       "      <td>Black/African American</td>\n",
       "      <td>Unknown</td>\n",
       "      <td>Emergency</td>\n",
       "      <td>Home or Self Care</td>\n",
       "      <td>93</td>\n",
       "      <td>0</td>\n",
       "      <td>111</td>\n",
       "      <td>3</td>\n",
       "      <td>1</td>\n",
       "      <td>Minor</td>\n",
       "      <td>Medical</td>\n",
       "      <td>Medicare</td>\n",
       "      <td>Medicare</td>\n",
       "      <td>Medicaid</td>\n",
       "      <td>Y</td>\n",
       "      <td>2</td>\n",
       "      <td>0</td>\n",
       "    </tr>\n",
       "  </tbody>\n",
       "</table>\n",
       "</div>"
      ],
      "text/plain": [
       "           Age Group Gender                    Race          Ethnicity  \\\n",
       "872704      50 to 69      M                   White  Not Span/Hispanic   \n",
       "1198712  70 or Older      F                   White  Not Span/Hispanic   \n",
       "1725014      0 to 17      F              Other Race  Not Span/Hispanic   \n",
       "358856   70 or Older      M                   White  Not Span/Hispanic   \n",
       "825601      50 to 69      F  Black/African American            Unknown   \n",
       "\n",
       "        Type of Admission   Patient Disposition CCS Diagnosis Code  \\\n",
       "872704          Emergency     Home or Self Care                122   \n",
       "1198712         Emergency  Skilled Nursing Home                143   \n",
       "1725014           Newborn     Home or Self Care                218   \n",
       "358856          Emergency     Home or Self Care                129   \n",
       "825601          Emergency     Home or Self Care                 93   \n",
       "\n",
       "        CCS Procedure Code APR DRG Code APR MDC Code  \\\n",
       "872704                   0          139            4   \n",
       "1198712                231          227            6   \n",
       "1725014                228          640           15   \n",
       "358856                   0          137            4   \n",
       "825601                   0          111            3   \n",
       "\n",
       "        APR Severity of Illness Code APR Risk of Mortality  \\\n",
       "872704                             2                 Minor   \n",
       "1198712                            3                 Major   \n",
       "1725014                            1                 Minor   \n",
       "358856                             2                 Major   \n",
       "825601                             1                 Minor   \n",
       "\n",
       "        APR Medical Surgical Description      Payment Typology 1  \\\n",
       "872704                           Medical                Medicaid   \n",
       "1198712                         Surgical                Medicare   \n",
       "1725014                          Medical  Blue Cross/Blue Shield   \n",
       "358856                           Medical                Medicare   \n",
       "825601                           Medical                Medicare   \n",
       "\n",
       "               Payment Typology 2 Payment Typology 3  \\\n",
       "872704                   Self-Pay           Self-Pay   \n",
       "1198712                  Medicaid               None   \n",
       "1725014                  Self-Pay               None   \n",
       "358856   Private Health Insurance           Self-Pay   \n",
       "825601                   Medicare           Medicaid   \n",
       "\n",
       "        Emergency Department Indicator  Length of Stay  Birth Weight  \n",
       "872704                               Y               1             0  \n",
       "1198712                              Y               7             0  \n",
       "1725014                              N               3          2500  \n",
       "358856                               Y               4             0  \n",
       "825601                               Y               2             0  "
      ]
     },
     "execution_count": 14,
     "metadata": {},
     "output_type": "execute_result"
    }
   ],
   "source": [
    "train_X, test_X, train_y, test_y = train_test_split(trimmed_dataset[feature_list], trimmed_dataset[\"Total Costs\"], train_size=0.8)\n",
    "train_X.shape\n",
    "train_X.head()"
   ]
  },
  {
   "cell_type": "markdown",
   "id": "developed-parking",
   "metadata": {},
   "source": [
    "## Exploratory Data Analysis\n",
    "\n",
    "Let's do a bit of digging into these features, starting with the most popular values for each of the categorical values."
   ]
  },
  {
   "cell_type": "code",
   "execution_count": 15,
   "id": "social-college",
   "metadata": {},
   "outputs": [
    {
     "data": {
      "text/html": [
       "<div>\n",
       "<style scoped>\n",
       "    .dataframe tbody tr th:only-of-type {\n",
       "        vertical-align: middle;\n",
       "    }\n",
       "\n",
       "    .dataframe tbody tr th {\n",
       "        vertical-align: top;\n",
       "    }\n",
       "\n",
       "    .dataframe thead th {\n",
       "        text-align: right;\n",
       "    }\n",
       "</style>\n",
       "<table border=\"1\" class=\"dataframe\">\n",
       "  <thead>\n",
       "    <tr style=\"text-align: right;\">\n",
       "      <th></th>\n",
       "      <th>Age Group</th>\n",
       "      <th>Gender</th>\n",
       "      <th>Race</th>\n",
       "      <th>Ethnicity</th>\n",
       "      <th>Type of Admission</th>\n",
       "      <th>Patient Disposition</th>\n",
       "      <th>CCS Diagnosis Code</th>\n",
       "      <th>CCS Procedure Code</th>\n",
       "      <th>APR DRG Code</th>\n",
       "      <th>APR MDC Code</th>\n",
       "      <th>APR Severity of Illness Code</th>\n",
       "      <th>APR Risk of Mortality</th>\n",
       "      <th>APR Medical Surgical Description</th>\n",
       "      <th>Payment Typology 1</th>\n",
       "      <th>Payment Typology 2</th>\n",
       "      <th>Payment Typology 3</th>\n",
       "      <th>Emergency Department Indicator</th>\n",
       "    </tr>\n",
       "  </thead>\n",
       "  <tbody>\n",
       "    <tr>\n",
       "      <th>0</th>\n",
       "      <td>50 to 69</td>\n",
       "      <td>F</td>\n",
       "      <td>White</td>\n",
       "      <td>Not Span/Hispanic</td>\n",
       "      <td>Emergency</td>\n",
       "      <td>Home or Self Care</td>\n",
       "      <td>218</td>\n",
       "      <td>0</td>\n",
       "      <td>640</td>\n",
       "      <td>5</td>\n",
       "      <td>2</td>\n",
       "      <td>Minor</td>\n",
       "      <td>Medical</td>\n",
       "      <td>Medicare</td>\n",
       "      <td>None</td>\n",
       "      <td>None</td>\n",
       "      <td>Y</td>\n",
       "    </tr>\n",
       "    <tr>\n",
       "      <th>1</th>\n",
       "      <td>70 or Older</td>\n",
       "      <td>M</td>\n",
       "      <td>Other Race</td>\n",
       "      <td>Spanish/Hispanic</td>\n",
       "      <td>Elective</td>\n",
       "      <td>Home w/ Home Health Services</td>\n",
       "      <td>2</td>\n",
       "      <td>231</td>\n",
       "      <td>560</td>\n",
       "      <td>14</td>\n",
       "      <td>1</td>\n",
       "      <td>Moderate</td>\n",
       "      <td>Surgical</td>\n",
       "      <td>Medicaid</td>\n",
       "      <td>Medicaid</td>\n",
       "      <td>Self-Pay</td>\n",
       "      <td>N</td>\n",
       "    </tr>\n",
       "    <tr>\n",
       "      <th>2</th>\n",
       "      <td>30 to 49</td>\n",
       "      <td>U</td>\n",
       "      <td>Black/African American</td>\n",
       "      <td>Unknown</td>\n",
       "      <td>Newborn</td>\n",
       "      <td>Skilled Nursing Home</td>\n",
       "      <td>203</td>\n",
       "      <td>137</td>\n",
       "      <td>720</td>\n",
       "      <td>15</td>\n",
       "      <td>3</td>\n",
       "      <td>Major</td>\n",
       "      <td>Not Applicable</td>\n",
       "      <td>Private Health Insurance</td>\n",
       "      <td>Self-Pay</td>\n",
       "      <td>Medicaid</td>\n",
       "      <td>NaN</td>\n",
       "    </tr>\n",
       "    <tr>\n",
       "      <th>3</th>\n",
       "      <td>0 to 17</td>\n",
       "      <td>NaN</td>\n",
       "      <td>Multi-racial</td>\n",
       "      <td>Multi-ethnic</td>\n",
       "      <td>Urgent</td>\n",
       "      <td>Expired</td>\n",
       "      <td>108</td>\n",
       "      <td>228</td>\n",
       "      <td>540</td>\n",
       "      <td>8</td>\n",
       "      <td>4</td>\n",
       "      <td>Extreme</td>\n",
       "      <td>NaN</td>\n",
       "      <td>Blue Cross/Blue Shield</td>\n",
       "      <td>Medicare</td>\n",
       "      <td>Private Health Insurance</td>\n",
       "      <td>NaN</td>\n",
       "    </tr>\n",
       "    <tr>\n",
       "      <th>4</th>\n",
       "      <td>18 to 29</td>\n",
       "      <td>NaN</td>\n",
       "      <td>NaN</td>\n",
       "      <td>NaN</td>\n",
       "      <td>Trauma</td>\n",
       "      <td>Left Against Medical Advice</td>\n",
       "      <td>657</td>\n",
       "      <td>134</td>\n",
       "      <td>194</td>\n",
       "      <td>6</td>\n",
       "      <td>0</td>\n",
       "      <td>None</td>\n",
       "      <td>NaN</td>\n",
       "      <td>Self-Pay</td>\n",
       "      <td>Private Health Insurance</td>\n",
       "      <td>Blue Cross/Blue Shield</td>\n",
       "      <td>NaN</td>\n",
       "    </tr>\n",
       "  </tbody>\n",
       "</table>\n",
       "</div>"
      ],
      "text/plain": [
       "     Age Group Gender                    Race          Ethnicity  \\\n",
       "0     50 to 69      F                   White  Not Span/Hispanic   \n",
       "1  70 or Older      M              Other Race   Spanish/Hispanic   \n",
       "2     30 to 49      U  Black/African American            Unknown   \n",
       "3      0 to 17    NaN            Multi-racial       Multi-ethnic   \n",
       "4     18 to 29    NaN                     NaN                NaN   \n",
       "\n",
       "  Type of Admission           Patient Disposition CCS Diagnosis Code  \\\n",
       "0         Emergency             Home or Self Care                218   \n",
       "1          Elective  Home w/ Home Health Services                  2   \n",
       "2           Newborn          Skilled Nursing Home                203   \n",
       "3            Urgent                       Expired                108   \n",
       "4            Trauma   Left Against Medical Advice                657   \n",
       "\n",
       "  CCS Procedure Code APR DRG Code APR MDC Code APR Severity of Illness Code  \\\n",
       "0                  0          640            5                            2   \n",
       "1                231          560           14                            1   \n",
       "2                137          720           15                            3   \n",
       "3                228          540            8                            4   \n",
       "4                134          194            6                            0   \n",
       "\n",
       "  APR Risk of Mortality APR Medical Surgical Description  \\\n",
       "0                 Minor                          Medical   \n",
       "1              Moderate                         Surgical   \n",
       "2                 Major                   Not Applicable   \n",
       "3               Extreme                              NaN   \n",
       "4                  None                              NaN   \n",
       "\n",
       "         Payment Typology 1        Payment Typology 2  \\\n",
       "0                  Medicare                      None   \n",
       "1                  Medicaid                  Medicaid   \n",
       "2  Private Health Insurance                  Self-Pay   \n",
       "3    Blue Cross/Blue Shield                  Medicare   \n",
       "4                  Self-Pay  Private Health Insurance   \n",
       "\n",
       "         Payment Typology 3 Emergency Department Indicator  \n",
       "0                      None                              Y  \n",
       "1                  Self-Pay                              N  \n",
       "2                  Medicaid                            NaN  \n",
       "3  Private Health Insurance                            NaN  \n",
       "4    Blue Cross/Blue Shield                            NaN  "
      ]
     },
     "execution_count": 15,
     "metadata": {},
     "output_type": "execute_result"
    }
   ],
   "source": [
    "top_5_popular_vals = [train_X[col].value_counts(dropna=False).reset_index().head(5)[\"index\"].rename(col) for col in category_list]\n",
    "pd.concat(top_5_popular_vals, axis=1)"
   ]
  },
  {
   "cell_type": "markdown",
   "id": "productive-causing",
   "metadata": {},
   "source": [
    "This is an interesting table - it gives us a peek into the different variables all at once without getting too specific. A few things to call out:\n",
    " * We primarily have ages 50-69 in our data set, and we can look into by how much later.\n",
    " * CCS 218 is Liveborn - this likely applies to all newborn stays. The second highest is Sepsis.\n",
    " * CCS 0 is no procedure.\n",
    " * The top few DRGs are birth DRGs\n",
    " * MCD 5 is circulatory diseases (likely heart failure)\n",
    " * The payment typology columns present an interesting challenge - given the number of nulls in the last two columns, that likely would be more informative as two sets of columns: Primary Payment Method and \"Has X\" where X is a type of payment.\n",
    "\n",
    "Let's dig into a few more columns and see some distributions."
   ]
  },
  {
   "cell_type": "code",
   "execution_count": 16,
   "id": "recreational-element",
   "metadata": {},
   "outputs": [
    {
     "data": {
      "text/plain": [
       "<AxesSubplot:>"
      ]
     },
     "execution_count": 16,
     "metadata": {},
     "output_type": "execute_result"
    },
    {
     "data": {
      "text/plain": [
       "<AxesSubplot:>"
      ]
     },
     "execution_count": 16,
     "metadata": {},
     "output_type": "execute_result"
    },
    {
     "data": {
      "text/plain": [
       "Text(0.5, 1.0, 'Distribution of Age Group')"
      ]
     },
     "execution_count": 16,
     "metadata": {},
     "output_type": "execute_result"
    },
    {
     "data": {
      "text/plain": [
       "Text(0, 0.5, 'Percentage of total')"
      ]
     },
     "execution_count": 16,
     "metadata": {},
     "output_type": "execute_result"
    },
    {
     "data": {
      "image/png": "[encoded data removed]",
      "text/plain": [
       "<Figure size 504x360 with 1 Axes>"
      ]
     },
     "metadata": {
      "needs_background": "light"
     },
     "output_type": "display_data"
    }
   ],
   "source": [
    "# age group\n",
    "plt.subplot()\n",
    "(train_X[\"Age Group\"].value_counts() / float(len(train_X)) * 100).plot(kind=\"bar\", figsize=(7,5))\n",
    "plt.title(\"Distribution of Age Group\")\n",
    "plt.ylabel(\"Percentage of total\")"
   ]
  },
  {
   "cell_type": "code",
   "execution_count": 17,
   "id": "assigned-matthew",
   "metadata": {},
   "outputs": [
    {
     "data": {
      "text/plain": [
       "<AxesSubplot:>"
      ]
     },
     "execution_count": 17,
     "metadata": {},
     "output_type": "execute_result"
    },
    {
     "data": {
      "text/plain": [
       "Text(0.5, 1.0, 'Distribution of Gender')"
      ]
     },
     "execution_count": 17,
     "metadata": {},
     "output_type": "execute_result"
    },
    {
     "data": {
      "text/plain": [
       "Text(0, 0.5, 'Percentage of Total')"
      ]
     },
     "execution_count": 17,
     "metadata": {},
     "output_type": "execute_result"
    },
    {
     "data": {
      "image/png": "[encoded data removed]",
      "text/plain": [
       "<Figure size 504x360 with 1 Axes>"
      ]
     },
     "metadata": {
      "needs_background": "light"
     },
     "output_type": "display_data"
    }
   ],
   "source": [
    "# gender\n",
    "(train_X[\"Gender\"].value_counts() / float(len(train_X)) * 100).plot(kind=\"bar\", figsize=(7,5))\n",
    "plt.title(\"Distribution of Gender\")\n",
    "plt.ylabel(\"Percentage of Total\")"
   ]
  },
  {
   "cell_type": "markdown",
   "id": "popular-animal",
   "metadata": {},
   "source": [
    "One thing to note - this distribution isn't unexpected. In other data sources that I've worked with (especially Medicare populations) women are represented in higher proportions."
   ]
  },
  {
   "cell_type": "code",
   "execution_count": 18,
   "id": "artificial-search",
   "metadata": {},
   "outputs": [
    {
     "data": {
      "text/plain": [
       "<AxesSubplot:>"
      ]
     },
     "execution_count": 18,
     "metadata": {},
     "output_type": "execute_result"
    },
    {
     "data": {
      "text/plain": [
       "Text(0.5, 1.0, 'Distribution of Race')"
      ]
     },
     "execution_count": 18,
     "metadata": {},
     "output_type": "execute_result"
    },
    {
     "data": {
      "text/plain": [
       "Text(0, 0.5, 'Percentage of Total')"
      ]
     },
     "execution_count": 18,
     "metadata": {},
     "output_type": "execute_result"
    },
    {
     "data": {
      "image/png": "[encoded data removed]",
      "text/plain": [
       "<Figure size 504x360 with 1 Axes>"
      ]
     },
     "metadata": {
      "needs_background": "light"
     },
     "output_type": "display_data"
    }
   ],
   "source": [
    "# race\n",
    "(train_X[\"Race\"].value_counts() / float(len(train_X)) * 100).plot(kind=\"bar\", figsize=(7,5))\n",
    "plt.title(\"Distribution of Race\")\n",
    "plt.ylabel(\"Percentage of Total\")"
   ]
  },
  {
   "cell_type": "markdown",
   "id": "funny-fellowship",
   "metadata": {},
   "source": [
    "Again, this also isn't surprising. For the sake of time, I will restrict myself to one more distribution - payment method. That will tell me a great deal about the general characteristics of the population."
   ]
  },
  {
   "cell_type": "code",
   "execution_count": 19,
   "id": "neural-semester",
   "metadata": {},
   "outputs": [
    {
     "data": {
      "text/plain": [
       "<AxesSubplot:>"
      ]
     },
     "execution_count": 19,
     "metadata": {},
     "output_type": "execute_result"
    },
    {
     "data": {
      "text/plain": [
       "Text(0.5, 1.0, 'Distribution of Primary Payment')"
      ]
     },
     "execution_count": 19,
     "metadata": {},
     "output_type": "execute_result"
    },
    {
     "data": {
      "text/plain": [
       "Text(0, 0.5, 'Percentage of Total')"
      ]
     },
     "execution_count": 19,
     "metadata": {},
     "output_type": "execute_result"
    },
    {
     "data": {
      "image/png": "[encoded data removed]",
      "text/plain": [
       "<Figure size 504x360 with 1 Axes>"
      ]
     },
     "metadata": {
      "needs_background": "light"
     },
     "output_type": "display_data"
    }
   ],
   "source": [
    "# Primary Payer\n",
    "(train_X[\"Payment Typology 1\"].value_counts() / float(len(train_X)) * 100).plot(kind=\"bar\", figsize=(7,5))\n",
    "plt.title(\"Distribution of Primary Payment\")\n",
    "plt.ylabel(\"Percentage of Total\")"
   ]
  },
  {
   "cell_type": "markdown",
   "id": "genuine-forward",
   "metadata": {},
   "source": [
    "As I suspected - we have a high Medicare percentage here. This jives with the other graphs I have made so far - the M/F ratio is what I would expect from that type of population, as is the age distribution. Now that we have a general sense of the population we are working with, let's see how these variables compare with our target. We will start by correlating our numerical columns with the target."
   ]
  },
  {
   "cell_type": "code",
   "execution_count": 20,
   "id": "crucial-diabetes",
   "metadata": {},
   "outputs": [
    {
     "data": {
      "text/html": [
       "<div>\n",
       "<style scoped>\n",
       "    .dataframe tbody tr th:only-of-type {\n",
       "        vertical-align: middle;\n",
       "    }\n",
       "\n",
       "    .dataframe tbody tr th {\n",
       "        vertical-align: top;\n",
       "    }\n",
       "\n",
       "    .dataframe thead th {\n",
       "        text-align: right;\n",
       "    }\n",
       "</style>\n",
       "<table border=\"1\" class=\"dataframe\">\n",
       "  <thead>\n",
       "    <tr style=\"text-align: right;\">\n",
       "      <th></th>\n",
       "      <th>Length of Stay</th>\n",
       "      <th>Birth Weight</th>\n",
       "      <th>Total Costs</th>\n",
       "    </tr>\n",
       "  </thead>\n",
       "  <tbody>\n",
       "    <tr>\n",
       "      <th>Length of Stay</th>\n",
       "      <td>1.000000</td>\n",
       "      <td>-0.094463</td>\n",
       "      <td>0.713329</td>\n",
       "    </tr>\n",
       "    <tr>\n",
       "      <th>Birth Weight</th>\n",
       "      <td>-0.094463</td>\n",
       "      <td>1.000000</td>\n",
       "      <td>-0.117054</td>\n",
       "    </tr>\n",
       "    <tr>\n",
       "      <th>Total Costs</th>\n",
       "      <td>0.713329</td>\n",
       "      <td>-0.117054</td>\n",
       "      <td>1.000000</td>\n",
       "    </tr>\n",
       "  </tbody>\n",
       "</table>\n",
       "</div>"
      ],
      "text/plain": [
       "                Length of Stay  Birth Weight  Total Costs\n",
       "Length of Stay        1.000000     -0.094463     0.713329\n",
       "Birth Weight         -0.094463      1.000000    -0.117054\n",
       "Total Costs           0.713329     -0.117054     1.000000"
      ]
     },
     "execution_count": 20,
     "metadata": {},
     "output_type": "execute_result"
    }
   ],
   "source": [
    "pd.concat([train_X[[\"Length of Stay\", \"Birth Weight\"]], train_y], axis=1).corr()"
   ]
  },
  {
   "cell_type": "markdown",
   "id": "level-clear",
   "metadata": {},
   "source": [
    "Length of stay seems to have a high correlation with our target - that makes a lot of sense (the longer you are at the hospital, the higher the bill would be expected to be). I anticipate that will be a useful column later on. For our categorical variables, we can use a one-way ANOVA to see if different categorical groups have statistically significantly different means. This will give us a sense of how much information is gained through each column, and with the F score we can get a measure of the information gained. Before we do, we should check normality:"
   ]
  },
  {
   "cell_type": "code",
   "execution_count": 21,
   "id": "numerous-memorabilia",
   "metadata": {},
   "outputs": [
    {
     "data": {
      "text/plain": [
       "<AxesSubplot:ylabel='Frequency'>"
      ]
     },
     "execution_count": 21,
     "metadata": {},
     "output_type": "execute_result"
    },
    {
     "data": {
      "image/png": "[encoded data removed]",
      "text/plain": [
       "<Figure size 432x288 with 1 Axes>"
      ]
     },
     "metadata": {
      "needs_background": "light"
     },
     "output_type": "display_data"
    }
   ],
   "source": [
    "train_y[train_y < 200000].plot(kind=\"hist\", bins=500)"
   ]
  },
  {
   "cell_type": "markdown",
   "id": "ignored-diving",
   "metadata": {},
   "source": [
    "Not perfect, but it's relatively close. We should be able to proceed."
   ]
  },
  {
   "cell_type": "code",
   "execution_count": 22,
   "id": "residential-lancaster",
   "metadata": {},
   "outputs": [
    {
     "data": {
      "text/plain": [
       "F_onewayResult(statistic=8299.020732715215, pvalue=0.0)"
      ]
     },
     "execution_count": 22,
     "metadata": {},
     "output_type": "execute_result"
    }
   ],
   "source": [
    "# age as an example\n",
    "groups = [group[\"Total Costs\"].values for name, group in pd.concat([train_X, train_y], axis=1).groupby(\"Age Group\")]\n",
    "f_oneway(*groups)"
   ]
  },
  {
   "cell_type": "code",
   "execution_count": 23,
   "id": "pretty-sweet",
   "metadata": {},
   "outputs": [
    {
     "name": "stdout",
     "output_type": "stream",
     "text": [
      "Age Group: 8299.020732715215 (pvalue=0.0)\n",
      "Gender: 1837.064091905654 (pvalue=0.0)\n",
      "Race: 644.7665169625022 (pvalue=0.0)\n",
      "Ethnicity: 347.7028640564287 (pvalue=9.250065986545426e-226)\n",
      "Type of Admission: 4688.237139738321 (pvalue=0.0)\n",
      "Patient Disposition: 7039.402478219278 (pvalue=0.0)\n",
      "CCS Diagnosis Code: 655.5319860418549 (pvalue=0.0)\n",
      "CCS Procedure Code: 2087.699756719894 (pvalue=0.0)\n",
      "APR DRG Code: 2736.756632573342 (pvalue=0.0)\n",
      "APR MDC Code: 3208.5632028797113 (pvalue=0.0)\n",
      "APR Severity of Illness Code: 77170.00895906008 (pvalue=0.0)\n",
      "APR Risk of Mortality: 54129.516370868376 (pvalue=0.0)\n",
      "APR Medical Surgical Description: 53469.37551713241 (pvalue=0.0)\n",
      "Payment Typology 1: 1765.5817331370104 (pvalue=0.0)\n",
      "Payment Typology 2: 1375.6089971960532 (pvalue=0.0)\n",
      "Payment Typology 3: 688.5119720782826 (pvalue=0.0)\n",
      "Emergency Department Indicator: 87.88381230358888 (pvalue=6.948747962415132e-21)\n"
     ]
    }
   ],
   "source": [
    "for cat in category_list:\n",
    "    groups = [group[\"Total Costs\"].values for name, group in pd.concat([train_X, train_y], axis=1).groupby(cat)]\n",
    "    F, p = f_oneway(*groups)\n",
    "    print(f\"{cat}: {F} (pvalue={p})\")"
   ]
  },
  {
   "cell_type": "markdown",
   "id": "improving-azerbaijan",
   "metadata": {},
   "source": [
    "A couple of observations we can make here:\n",
    " * Risk of Mortality, Illness Severity, and Med/Surg appear to be the most important. Mortality and Illness severity are likely proxies of the same thing, so both of them being high is to be expected.\n",
    " * Race, Ethnicity, CCS Diagnosis, Payment types 2 and 3, and EDI appear to be uninformative for stratification. CCS Diagnosis is really the only interesting one there - I expected that to have some predictive power due to it describing the state of the patient and the type of services that might have been provided.\n",
    " \n",
    "With that out of the way, the last thing I want to check is the collinearity of a few of these problems - I have a feeling that a few of these features are proxies for eachother. We will start by computing a crosstab, then we can use a chi squared contingency test and Cramer's V to examine the correlation."
   ]
  },
  {
   "cell_type": "code",
   "execution_count": 24,
   "id": "geological-account",
   "metadata": {},
   "outputs": [
    {
     "data": {
      "text/plain": [
       "0.11916201975237735"
      ]
     },
     "execution_count": 24,
     "metadata": {},
     "output_type": "execute_result"
    }
   ],
   "source": [
    "# expected low correlation\n",
    "ct = pd.crosstab(index=train_X[\"Age Group\"], columns=train_X[\"Race\"])\n",
    "chi2 = chi2_contingency(ct)[0]\n",
    "mindim = min(ct.shape) - 1\n",
    "cramers_v = np.sqrt((chi2/len(train_X)) / mindim)\n",
    "cramers_v"
   ]
  },
  {
   "cell_type": "code",
   "execution_count": 25,
   "id": "stone-poster",
   "metadata": {},
   "outputs": [
    {
     "data": {
      "text/plain": [
       "0.2549275744553108"
      ]
     },
     "execution_count": 25,
     "metadata": {},
     "output_type": "execute_result"
    }
   ],
   "source": [
    "# I would expect slightly higher\n",
    "ct = pd.crosstab(index=train_X[\"Ethnicity\"], columns=train_X[\"Race\"])\n",
    "chi2 = chi2_contingency(ct)[0]\n",
    "mindim = min(ct.shape) - 1\n",
    "cramers_v = np.sqrt((chi2/len(train_X)) / mindim)\n",
    "cramers_v"
   ]
  },
  {
   "cell_type": "code",
   "execution_count": 26,
   "id": "guilty-equilibrium",
   "metadata": {},
   "outputs": [
    {
     "data": {
      "text/plain": [
       "0.7041103367702699"
      ]
     },
     "execution_count": 26,
     "metadata": {},
     "output_type": "execute_result"
    }
   ],
   "source": [
    "# as I suspected - much more highly correlated\n",
    "ct = pd.crosstab(index=train_X[\"APR Risk of Mortality\"], columns=train_X[\"APR Severity of Illness Code\"])\n",
    "chi2 = chi2_contingency(ct)[0]\n",
    "mindim = min(ct.shape) - 1\n",
    "cramers_v = np.sqrt((chi2/len(train_X)) / mindim)\n",
    "cramers_v"
   ]
  },
  {
   "cell_type": "markdown",
   "id": "descending-mention",
   "metadata": {},
   "source": [
    "I expected Risk of Mortality and Severity of Illness to be correlated - if I was performing the modeling, I would likely want to remove one or the other to avoid collinearity. However, I'm going to use H2O's AutoML to speed up finding the model. \n",
    "\n",
    "## Modeling\n",
    "We are going to use H2O's AutoML to run some models. Before we do that, we will generate dummy variables on our categorical columns."
   ]
  },
  {
   "cell_type": "code",
   "execution_count": 31,
   "id": "underlying-polymer",
   "metadata": {},
   "outputs": [],
   "source": [
    "# set up the OHE\n",
    "transformer_list = [(col+\"_OHE\", OneHotEncoder(handle_unknown=\"ignore\"), [col]) for col in category_list]\n",
    "onehot_transformer = ColumnTransformer(transformer_list, remainder=\"passthrough\")\n",
    "\n",
    "seed = 42\n",
    "pipe = Pipeline([\n",
    "    (\"OHE\", onehot_transformer),\n",
    "    (\"automl\", H2OAutoMLRegressor(max_models = 10, seed = seed))\n",
    "])"
   ]
  },
  {
   "cell_type": "code",
   "execution_count": 34,
   "id": "duplicate-effectiveness",
   "metadata": {},
   "outputs": [
    {
     "name": "stdout",
     "output_type": "stream",
     "text": [
      "Parse progress: |█████████████████████████████████████████████████████████| 100%\n",
      "Parse progress: |█████████████████████████████████████████████████████████| 100%\n",
      "AutoML progress: |\n",
      "23:16:28.931: AutoML: XGBoost is not available; skipping it.\n",
      "\n",
      "███████████████████████████████████████████████████████ (cancelled) 100%\n"
     ]
    },
    {
     "ename": "H2OJobCancelled",
     "evalue": "Job<$03017f00000132d4ffffffff$_9cd244fdfd4b6262b559903aa0ef47ef> was cancelled by the user.",
     "output_type": "error",
     "traceback": [
      "\u001b[1;31m---------------------------------------------------------------------------\u001b[0m",
      "\u001b[1;31mH2OJobCancelled\u001b[0m                           Traceback (most recent call last)",
      "\u001b[1;32m<ipython-input-34-320e8662c16b>\u001b[0m in \u001b[0;36m<module>\u001b[1;34m\u001b[0m\n\u001b[1;32m----> 1\u001b[1;33m \u001b[0mpipe\u001b[0m\u001b[1;33m.\u001b[0m\u001b[0mfit\u001b[0m\u001b[1;33m(\u001b[0m\u001b[0mtrain_X\u001b[0m\u001b[1;33m,\u001b[0m \u001b[0mpd\u001b[0m\u001b[1;33m.\u001b[0m\u001b[0mDataFrame\u001b[0m\u001b[1;33m(\u001b[0m\u001b[0mtrain_y\u001b[0m\u001b[1;33m)\u001b[0m\u001b[1;33m)\u001b[0m\u001b[1;33m\u001b[0m\u001b[1;33m\u001b[0m\u001b[0m\n\u001b[0m",
      "\u001b[1;32m~\\anaconda3\\envs\\empiric\\lib\\site-packages\\sklearn\\pipeline.py\u001b[0m in \u001b[0;36mfit\u001b[1;34m(self, X, y, **fit_params)\u001b[0m\n\u001b[0;32m    333\u001b[0m             \u001b[1;32mif\u001b[0m \u001b[0mself\u001b[0m\u001b[1;33m.\u001b[0m\u001b[0m_final_estimator\u001b[0m \u001b[1;33m!=\u001b[0m \u001b[1;34m'passthrough'\u001b[0m\u001b[1;33m:\u001b[0m\u001b[1;33m\u001b[0m\u001b[1;33m\u001b[0m\u001b[0m\n\u001b[0;32m    334\u001b[0m                 \u001b[0mfit_params_last_step\u001b[0m \u001b[1;33m=\u001b[0m \u001b[0mfit_params_steps\u001b[0m\u001b[1;33m[\u001b[0m\u001b[0mself\u001b[0m\u001b[1;33m.\u001b[0m\u001b[0msteps\u001b[0m\u001b[1;33m[\u001b[0m\u001b[1;33m-\u001b[0m\u001b[1;36m1\u001b[0m\u001b[1;33m]\u001b[0m\u001b[1;33m[\u001b[0m\u001b[1;36m0\u001b[0m\u001b[1;33m]\u001b[0m\u001b[1;33m]\u001b[0m\u001b[1;33m\u001b[0m\u001b[1;33m\u001b[0m\u001b[0m\n\u001b[1;32m--> 335\u001b[1;33m                 \u001b[0mself\u001b[0m\u001b[1;33m.\u001b[0m\u001b[0m_final_estimator\u001b[0m\u001b[1;33m.\u001b[0m\u001b[0mfit\u001b[0m\u001b[1;33m(\u001b[0m\u001b[0mXt\u001b[0m\u001b[1;33m,\u001b[0m \u001b[0my\u001b[0m\u001b[1;33m,\u001b[0m \u001b[1;33m**\u001b[0m\u001b[0mfit_params_last_step\u001b[0m\u001b[1;33m)\u001b[0m\u001b[1;33m\u001b[0m\u001b[1;33m\u001b[0m\u001b[0m\n\u001b[0m\u001b[0;32m    336\u001b[0m \u001b[1;33m\u001b[0m\u001b[0m\n\u001b[0;32m    337\u001b[0m         \u001b[1;32mreturn\u001b[0m \u001b[0mself\u001b[0m\u001b[1;33m\u001b[0m\u001b[1;33m\u001b[0m\u001b[0m\n",
      "\u001b[1;32m~\\anaconda3\\envs\\empiric\\lib\\site-packages\\h2o\\sklearn\\wrapper.py\u001b[0m in \u001b[0;36mwrapper\u001b[1;34m(*args, **kwargs)\u001b[0m\n\u001b[0;32m    334\u001b[0m                                          estimator=self) or converted\n\u001b[0;32m    335\u001b[0m \u001b[1;33m\u001b[0m\u001b[0m\n\u001b[1;32m--> 336\u001b[1;33m             \u001b[0mresult\u001b[0m \u001b[1;33m=\u001b[0m \u001b[0mfn\u001b[0m\u001b[1;33m(\u001b[0m\u001b[1;33m**\u001b[0m\u001b[0m_args\u001b[0m\u001b[1;33m)\u001b[0m\u001b[1;33m\u001b[0m\u001b[1;33m\u001b[0m\u001b[0m\n\u001b[0m\u001b[0;32m    337\u001b[0m             result = _revert(reverter, result, converted=converted,\n\u001b[0;32m    338\u001b[0m                              \u001b[0mresult_conversion\u001b[0m\u001b[1;33m=\u001b[0m\u001b[0mresult_conversion\u001b[0m\u001b[1;33m,\u001b[0m\u001b[1;33m\u001b[0m\u001b[1;33m\u001b[0m\u001b[0m\n",
      "\u001b[1;32m~\\anaconda3\\envs\\empiric\\lib\\site-packages\\h2o\\sklearn\\wrapper.py\u001b[0m in \u001b[0;36mfit\u001b[1;34m(self, X, y, **fit_params)\u001b[0m\n\u001b[0;32m    670\u001b[0m         \u001b[1;33m:\u001b[0m\u001b[1;32mreturn\u001b[0m\u001b[1;33m:\u001b[0m \u001b[0mself\u001b[0m\u001b[1;33m\u001b[0m\u001b[1;33m\u001b[0m\u001b[0m\n\u001b[0;32m    671\u001b[0m         \"\"\"\n\u001b[1;32m--> 672\u001b[1;33m         \u001b[1;32mreturn\u001b[0m \u001b[0mself\u001b[0m\u001b[1;33m.\u001b[0m\u001b[0m_fit\u001b[0m\u001b[1;33m(\u001b[0m\u001b[0mX\u001b[0m\u001b[1;33m,\u001b[0m \u001b[0my\u001b[0m\u001b[1;33m,\u001b[0m \u001b[1;33m**\u001b[0m\u001b[0mfit_params\u001b[0m\u001b[1;33m)\u001b[0m\u001b[1;33m\u001b[0m\u001b[1;33m\u001b[0m\u001b[0m\n\u001b[0m\u001b[0;32m    673\u001b[0m \u001b[1;33m\u001b[0m\u001b[0m\n\u001b[0;32m    674\u001b[0m     \u001b[1;33m@\u001b[0m\u001b[0mparams_as_h2o_frames\u001b[0m\u001b[1;33m(\u001b[0m\u001b[0mreverter\u001b[0m\u001b[1;33m=\u001b[0m\u001b[0m_vector_to_1d_array\u001b[0m\u001b[1;33m)\u001b[0m\u001b[1;33m\u001b[0m\u001b[1;33m\u001b[0m\u001b[0m\n",
      "\u001b[1;32m~\\anaconda3\\envs\\empiric\\lib\\site-packages\\h2o\\sklearn\\wrapper.py\u001b[0m in \u001b[0;36m_fit\u001b[1;34m(self, X, y, **fit_params)\u001b[0m\n\u001b[0;32m    652\u001b[0m             \u001b[0mtraining_frame\u001b[0m \u001b[1;33m=\u001b[0m \u001b[0mX\u001b[0m \u001b[1;32mif\u001b[0m \u001b[0my\u001b[0m \u001b[1;32mis\u001b[0m \u001b[1;32mNone\u001b[0m \u001b[1;32melse\u001b[0m \u001b[0mX\u001b[0m\u001b[1;33m.\u001b[0m\u001b[0mconcat\u001b[0m\u001b[1;33m(\u001b[0m\u001b[0my\u001b[0m\u001b[1;33m)\u001b[0m\u001b[1;33m\u001b[0m\u001b[1;33m\u001b[0m\u001b[0m\n\u001b[0;32m    653\u001b[0m             \u001b[0mtarget\u001b[0m \u001b[1;33m=\u001b[0m \u001b[1;32mNone\u001b[0m \u001b[1;32mif\u001b[0m \u001b[0my\u001b[0m \u001b[1;32mis\u001b[0m \u001b[1;32mNone\u001b[0m \u001b[1;32melse\u001b[0m \u001b[1;33m-\u001b[0m\u001b[1;36m1\u001b[0m\u001b[1;33m\u001b[0m\u001b[1;33m\u001b[0m\u001b[0m\n\u001b[1;32m--> 654\u001b[1;33m             \u001b[0mself\u001b[0m\u001b[1;33m.\u001b[0m\u001b[0m_estimator\u001b[0m\u001b[1;33m.\u001b[0m\u001b[0mtrain\u001b[0m\u001b[1;33m(\u001b[0m\u001b[0my\u001b[0m\u001b[1;33m=\u001b[0m\u001b[0mtarget\u001b[0m\u001b[1;33m,\u001b[0m \u001b[0mtraining_frame\u001b[0m\u001b[1;33m=\u001b[0m\u001b[0mtraining_frame\u001b[0m\u001b[1;33m,\u001b[0m \u001b[1;33m**\u001b[0m\u001b[0mfit_params\u001b[0m\u001b[1;33m)\u001b[0m\u001b[1;33m\u001b[0m\u001b[1;33m\u001b[0m\u001b[0m\n\u001b[0m\u001b[0;32m    655\u001b[0m         \u001b[1;32mreturn\u001b[0m \u001b[0mself\u001b[0m\u001b[1;33m\u001b[0m\u001b[1;33m\u001b[0m\u001b[0m\n\u001b[0;32m    656\u001b[0m \u001b[1;33m\u001b[0m\u001b[0m\n",
      "\u001b[1;32m~\\anaconda3\\envs\\empiric\\lib\\site-packages\\h2o\\automl\\autoh2o.py\u001b[0m in \u001b[0;36mtrain\u001b[1;34m(self, x, y, training_frame, fold_column, weights_column, validation_frame, leaderboard_frame, blending_frame)\u001b[0m\n\u001b[0;32m    479\u001b[0m         \u001b[0mpoll_updates\u001b[0m \u001b[1;33m=\u001b[0m \u001b[0mft\u001b[0m\u001b[1;33m.\u001b[0m\u001b[0mpartial\u001b[0m\u001b[1;33m(\u001b[0m\u001b[0mself\u001b[0m\u001b[1;33m.\u001b[0m\u001b[0m_poll_training_updates\u001b[0m\u001b[1;33m,\u001b[0m \u001b[0mverbosity\u001b[0m\u001b[1;33m=\u001b[0m\u001b[0mself\u001b[0m\u001b[1;33m.\u001b[0m\u001b[0m_verbosity\u001b[0m\u001b[1;33m,\u001b[0m \u001b[0mstate\u001b[0m\u001b[1;33m=\u001b[0m\u001b[1;33m{\u001b[0m\u001b[1;33m}\u001b[0m\u001b[1;33m)\u001b[0m\u001b[1;33m\u001b[0m\u001b[1;33m\u001b[0m\u001b[0m\n\u001b[0;32m    480\u001b[0m         \u001b[1;32mtry\u001b[0m\u001b[1;33m:\u001b[0m\u001b[1;33m\u001b[0m\u001b[1;33m\u001b[0m\u001b[0m\n\u001b[1;32m--> 481\u001b[1;33m             \u001b[0mself\u001b[0m\u001b[1;33m.\u001b[0m\u001b[0m_job\u001b[0m\u001b[1;33m.\u001b[0m\u001b[0mpoll\u001b[0m\u001b[1;33m(\u001b[0m\u001b[0mpoll_updates\u001b[0m\u001b[1;33m=\u001b[0m\u001b[0mpoll_updates\u001b[0m\u001b[1;33m)\u001b[0m\u001b[1;33m\u001b[0m\u001b[1;33m\u001b[0m\u001b[0m\n\u001b[0m\u001b[0;32m    482\u001b[0m         \u001b[1;32mfinally\u001b[0m\u001b[1;33m:\u001b[0m\u001b[1;33m\u001b[0m\u001b[1;33m\u001b[0m\u001b[0m\n\u001b[0;32m    483\u001b[0m             \u001b[0mpoll_updates\u001b[0m\u001b[1;33m(\u001b[0m\u001b[0mself\u001b[0m\u001b[1;33m.\u001b[0m\u001b[0m_job\u001b[0m\u001b[1;33m,\u001b[0m \u001b[1;36m1\u001b[0m\u001b[1;33m)\u001b[0m\u001b[1;33m\u001b[0m\u001b[1;33m\u001b[0m\u001b[0m\n",
      "\u001b[1;32m~\\anaconda3\\envs\\empiric\\lib\\site-packages\\h2o\\job.py\u001b[0m in \u001b[0;36mpoll\u001b[1;34m(self, poll_updates)\u001b[0m\n\u001b[0;32m     72\u001b[0m         \u001b[1;31m# check if failed... and politely print relevant message\u001b[0m\u001b[1;33m\u001b[0m\u001b[1;33m\u001b[0m\u001b[1;33m\u001b[0m\u001b[0m\n\u001b[0;32m     73\u001b[0m         \u001b[1;32mif\u001b[0m \u001b[0mself\u001b[0m\u001b[1;33m.\u001b[0m\u001b[0mstatus\u001b[0m \u001b[1;33m==\u001b[0m \u001b[1;34m\"CANCELLED\"\u001b[0m\u001b[1;33m:\u001b[0m\u001b[1;33m\u001b[0m\u001b[1;33m\u001b[0m\u001b[0m\n\u001b[1;32m---> 74\u001b[1;33m             \u001b[1;32mraise\u001b[0m \u001b[0mH2OJobCancelled\u001b[0m\u001b[1;33m(\u001b[0m\u001b[1;34m\"Job<%s> was cancelled by the user.\"\u001b[0m \u001b[1;33m%\u001b[0m \u001b[0mself\u001b[0m\u001b[1;33m.\u001b[0m\u001b[0mjob_key\u001b[0m\u001b[1;33m)\u001b[0m\u001b[1;33m\u001b[0m\u001b[1;33m\u001b[0m\u001b[0m\n\u001b[0m\u001b[0;32m     75\u001b[0m         \u001b[1;32mif\u001b[0m \u001b[0mself\u001b[0m\u001b[1;33m.\u001b[0m\u001b[0mstatus\u001b[0m \u001b[1;33m==\u001b[0m \u001b[1;34m\"FAILED\"\u001b[0m\u001b[1;33m:\u001b[0m\u001b[1;33m\u001b[0m\u001b[1;33m\u001b[0m\u001b[0m\n\u001b[0;32m     76\u001b[0m             \u001b[1;32mif\u001b[0m \u001b[1;33m(\u001b[0m\u001b[0misinstance\u001b[0m\u001b[1;33m(\u001b[0m\u001b[0mself\u001b[0m\u001b[1;33m.\u001b[0m\u001b[0mjob\u001b[0m\u001b[1;33m,\u001b[0m \u001b[0mdict\u001b[0m\u001b[1;33m)\u001b[0m\u001b[1;33m)\u001b[0m \u001b[1;32mand\u001b[0m \u001b[1;33m(\u001b[0m\u001b[1;34m\"stacktrace\"\u001b[0m \u001b[1;32min\u001b[0m \u001b[0mlist\u001b[0m\u001b[1;33m(\u001b[0m\u001b[0mself\u001b[0m\u001b[1;33m.\u001b[0m\u001b[0mjob\u001b[0m\u001b[1;33m)\u001b[0m\u001b[1;33m)\u001b[0m\u001b[1;33m:\u001b[0m\u001b[1;33m\u001b[0m\u001b[1;33m\u001b[0m\u001b[0m\n",
      "\u001b[1;31mH2OJobCancelled\u001b[0m: Job<$03017f00000132d4ffffffff$_9cd244fdfd4b6262b559903aa0ef47ef> was cancelled by the user."
     ]
    }
   ],
   "source": [
    "pipe.fit(train_X, pd.DataFrame(train_y))"
   ]
  },
  {
   "cell_type": "code",
   "execution_count": 29,
   "id": "unknown-defeat",
   "metadata": {},
   "outputs": [
    {
     "name": "stderr",
     "output_type": "stream",
     "text": [
      "<ipython-input-29-1edf85295eae>:1: H2ODeprecationWarning: Deprecated, use ``h2o.cluster().shutdown()``.\n",
      "  h2o.shutdown()\n"
     ]
    },
    {
     "name": "stdout",
     "output_type": "stream",
     "text": [
      "H2O session _sid_a24c closed.\n"
     ]
    }
   ],
   "source": []
  },
  {
   "cell_type": "code",
   "execution_count": null,
   "id": "former-scheduling",
   "metadata": {},
   "outputs": [],
   "source": []
  }
 ],
 "metadata": {
  "kernelspec": {
   "display_name": "Python 3",
   "language": "python",
   "name": "python3"
  },
  "language_info": {
   "codemirror_mode": {
    "name": "ipython",
    "version": 3
   },
   "file_extension": ".py",
   "mimetype": "text/x-python",
   "name": "python",
   "nbconvert_exporter": "python",
   "pygments_lexer": "ipython3",
   "version": "3.8.5"
  }
 },
 "nbformat": 4,
 "nbformat_minor": 5
}
